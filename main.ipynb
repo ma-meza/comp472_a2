{
 "cells": [
  {
   "cell_type": "markdown",
   "source": [
    "# 2. Implementation"
   ],
   "metadata": {
    "collapsed": false
   }
  },
  {
   "cell_type": "markdown",
   "source": [
    "## 2.1 State Space Search"
   ],
   "metadata": {
    "collapsed": false
   }
  },
  {
   "cell_type": "markdown",
   "source": [
    "### Helper methods"
   ],
   "metadata": {
    "collapsed": false
   }
  },
  {
   "cell_type": "code",
   "execution_count": 61,
   "outputs": [],
   "source": [
    "import copy\n",
    "\n",
    "def isGoalState(puzzle):\n",
    "    if puzzle[2][4] == \"A\" and puzzle[2][5] == \"A\":\n",
    "        return True\n",
    "    return False\n",
    "\n",
    "def runValetServiceCheckup(newPuzzle):\n",
    "    if newPuzzle[2][5] != \"A\" and newPuzzle[2][5] == newPuzzle[2][4]:\n",
    "        #car is horizontal and is ready for valet\n",
    "        carType = newPuzzle[2][5]\n",
    "        newCol = 5\n",
    "        while(newCol>=0):\n",
    "            if newPuzzle[2][newCol] == carType:\n",
    "                newPuzzle[2][newCol] = \".\"\n",
    "            else:\n",
    "                break\n",
    "            newCol -= 1\n",
    "    return newPuzzle\n",
    "\n",
    "def findHorizontalMovesOfCar(solutionPath, puzzle, y, startX, endX, fuelLevels):\n",
    "    newNodes = []\n",
    "    carLength = endX - startX + 1\n",
    "    carType = puzzle[y][startX]\n",
    "    for posX in reversed(range(startX)):\n",
    "        #move car left\n",
    "        if puzzle[y][posX] != \".\":\n",
    "            break\n",
    "\n",
    "        newPuzzle = copy.deepcopy(puzzle)\n",
    "        newFuelLevels = copy.deepcopy(fuelLevels)\n",
    "        newSolutionPath = copy.deepcopy(solutionPath)\n",
    "\n",
    "        displacement = startX - posX\n",
    "        if displacement <= newFuelLevels[carType]:\n",
    "            newFuelLevels[carType] = newFuelLevels[carType] - displacement\n",
    "            newSolutionPath.append({\n",
    "                \"carType\":carType,\n",
    "                \"direction\":\"left\",\n",
    "                \"displacement\":displacement\n",
    "            })\n",
    "\n",
    "            carPartsToMove = carLength\n",
    "            for newIndexX in range(posX, endX+1):\n",
    "                if carPartsToMove > 0:\n",
    "                    newPuzzle[y][newIndexX] = carType\n",
    "                    carPartsToMove -= 1\n",
    "                else:\n",
    "                    newPuzzle[y][newIndexX] = \".\"\n",
    "\n",
    "            newPuzzle = runValetServiceCheckup(newPuzzle)\n",
    "            newNode = {\n",
    "                \"puzzle\":newPuzzle,\n",
    "                \"solutionPath\":newSolutionPath,\n",
    "                \"fuelLevels\":newFuelLevels\n",
    "            }\n",
    "            newNodes.append(newNode)\n",
    "        else:\n",
    "            break\n",
    "    for posX in range(endX+1, 6):\n",
    "        #move car right\n",
    "        if puzzle[y][posX] != \".\":\n",
    "            break\n",
    "\n",
    "        newPuzzle = copy.deepcopy(puzzle)\n",
    "        newFuelLevels = copy.deepcopy(fuelLevels)\n",
    "        newSolutionPath = copy.deepcopy(solutionPath)\n",
    "\n",
    "        displacement = posX - endX\n",
    "        if displacement <= fuelLevels[carType]:\n",
    "            newFuelLevels[carType] = newFuelLevels[carType] - displacement\n",
    "            newSolutionPath.append({\n",
    "                \"carType\":carType,\n",
    "                \"direction\":\"right\",\n",
    "                \"displacement\":displacement\n",
    "            })\n",
    "\n",
    "            carPartsToMove = carLength\n",
    "            for newIndexX in reversed(range(startX, posX+1)):\n",
    "                if carPartsToMove > 0:\n",
    "                    newPuzzle[y][newIndexX] = carType\n",
    "                    carPartsToMove -= 1\n",
    "                else:\n",
    "                    newPuzzle[y][newIndexX] = \".\"\n",
    "\n",
    "            newPuzzle = runValetServiceCheckup(newPuzzle)\n",
    "            newNode = {\n",
    "                \"puzzle\":newPuzzle,\n",
    "                \"solutionPath\":newSolutionPath,\n",
    "                \"fuelLevels\":newFuelLevels\n",
    "            }\n",
    "            newNodes.append(newNode)\n",
    "        else:\n",
    "            break\n",
    "    return newNodes\n",
    "\n",
    "def findVerticalMovesOfCar(solutionPath, puzzle, x, startY, endY, fuelLevels):\n",
    "    newNodes = []\n",
    "    carLength = endY - startY + 1\n",
    "    carType = puzzle[startY][x]\n",
    "    for posY in reversed(range(startY)):\n",
    "        #move car up\n",
    "        if puzzle[posY][x] != \".\":\n",
    "            break\n",
    "\n",
    "        newPuzzle = copy.deepcopy(puzzle)\n",
    "        newFuelLevels = copy.deepcopy(fuelLevels)\n",
    "        newSolutionPath = copy.deepcopy(solutionPath)\n",
    "\n",
    "        displacement = startY - posY\n",
    "        if displacement <= fuelLevels[carType]:\n",
    "            newFuelLevels[carType] = newFuelLevels[carType] - displacement\n",
    "            newSolutionPath.append({\n",
    "                \"carType\":carType,\n",
    "                \"direction\":\"up\",\n",
    "                \"displacement\":displacement\n",
    "            })\n",
    "\n",
    "            carPartsToMove = carLength\n",
    "            for newIndexY in range(posY, endY+1):\n",
    "                if carPartsToMove > 0:\n",
    "                    newPuzzle[newIndexY][x] = carType\n",
    "                    carPartsToMove -= 1\n",
    "                else:\n",
    "                    newPuzzle[newIndexY][x] = \".\"\n",
    "\n",
    "            newPuzzle = runValetServiceCheckup(newPuzzle)\n",
    "            newNode = {\n",
    "                \"puzzle\":newPuzzle,\n",
    "                \"solutionPath\":newSolutionPath,\n",
    "                \"fuelLevels\":newFuelLevels\n",
    "            }\n",
    "            newNodes.append(newNode)\n",
    "        else:\n",
    "            break\n",
    "    for posY in range(endY+1, 6):\n",
    "        #move car down\n",
    "        if puzzle[posY][x] != \".\":\n",
    "            break\n",
    "\n",
    "        newPuzzle = copy.deepcopy(puzzle)\n",
    "        newFuelLevels = copy.deepcopy(fuelLevels)\n",
    "        newSolutionPath = copy.deepcopy(solutionPath)\n",
    "\n",
    "        displacement = posY - endY\n",
    "        if displacement <= fuelLevels[carType]:\n",
    "            newFuelLevels[carType] = newFuelLevels[carType] - displacement\n",
    "            newSolutionPath.append({\n",
    "                \"carType\":carType,\n",
    "                \"direction\":\"down\",\n",
    "                \"displacement\":displacement\n",
    "            })\n",
    "\n",
    "            carPartsToMove = carLength\n",
    "            for newIndexY in reversed(range(startY, posY+1)):\n",
    "                if carPartsToMove > 0:\n",
    "                    newPuzzle[newIndexY][x] = carType\n",
    "                    carPartsToMove -= 1\n",
    "                else:\n",
    "                    newPuzzle[newIndexY][x] = \".\"\n",
    "\n",
    "            newPuzzle = runValetServiceCheckup(newPuzzle)\n",
    "            newNode = {\n",
    "                \"puzzle\":newPuzzle,\n",
    "                \"solutionPath\":newSolutionPath,\n",
    "                \"fuelLevels\":newFuelLevels\n",
    "            }\n",
    "            newNodes.append(newNode)\n",
    "        else:\n",
    "            break\n",
    "    return newNodes\n",
    "\n",
    "def findSuccessors(node):\n",
    "    newNode = copy.deepcopy(node)\n",
    "    solutionPath = newNode[\"solutionPath\"]\n",
    "    successorsList = []\n",
    "    puzzle = newNode[\"puzzle\"]\n",
    "    movedCars = []\n",
    "    fuelLevels = newNode[\"fuelLevels\"]\n",
    "    for row in range(len(puzzle)):\n",
    "        for col in range(len(puzzle[row])):\n",
    "            if (puzzle[row][col] != \".\") and (puzzle[row][col] not in movedCars):\n",
    "                movedCars.append(puzzle[row][col])\n",
    "                if (col+1 != 6) and (puzzle[row][col] == puzzle[row][col+1]):\n",
    "                    #horizontal car\n",
    "                    endX = col\n",
    "                    for newX in range(col, len(puzzle[row])):\n",
    "                        if puzzle[row][newX] != puzzle[row][col]:\n",
    "                            break\n",
    "                        else:\n",
    "                            endX = newX\n",
    "                    horizontalMoves = findHorizontalMovesOfCar(solutionPath, puzzle, row, col, endX, fuelLevels)\n",
    "                    successorsList = successorsList + horizontalMoves\n",
    "                elif (row+1 != 6) and (puzzle[row][col] == puzzle[row+1][col]):\n",
    "                    #vertical car\n",
    "                    endY = row\n",
    "                    for newY in range(row, len(puzzle)):\n",
    "                        if puzzle[newY][col] != puzzle[row][col]:\n",
    "                            break\n",
    "                        else:\n",
    "                            endY = newY\n",
    "                    verticalMoves = findVerticalMovesOfCar(solutionPath, puzzle, col, row, endY, fuelLevels)\n",
    "                    successorsList = successorsList + verticalMoves\n",
    "    return successorsList\n",
    "\n",
    "def arePuzzlesEqual(puzzle1, puzzle2):\n",
    "    for row in range(len(puzzle1)):\n",
    "        for col in range(len(puzzle1[row])):\n",
    "            if puzzle1[row][col] != puzzle2[row][col]:\n",
    "                return False\n",
    "    return True\n",
    "\n",
    "def printCutePuzzle(puzzle):\n",
    "    for line in puzzle:\n",
    "        str = \"\"\n",
    "        for elem in line:\n",
    "            str += elem + \" \"\n",
    "        print(str+\"\\n\")\n",
    "\n",
    "def solver(puzzle, fuelLevels, heuristic):\n",
    "    initialState = {\n",
    "        \"puzzle\":puzzle,\n",
    "        \"solutionPath\":[],\n",
    "        \"fuelLevels\":fuelLevels\n",
    "    }\n",
    "    openList = [initialState]\n",
    "    closedList = []\n",
    "\n",
    "    nbSimilar = 0\n",
    "    nbSimilar2 = 0\n",
    "\n",
    "    while(len(openList) > 0):\n",
    "        firstNode = openList.pop(0)\n",
    "        if isGoalState(firstNode[\"puzzle\"]):\n",
    "            printCutePuzzle(firstNode[\"puzzle\"])\n",
    "            print(firstNode[\"solutionPath\"])\n",
    "            return firstNode[\"solutionPath\"]\n",
    "        else:\n",
    "            closedList.append(firstNode)\n",
    "            successors = findSuccessors(firstNode)\n",
    "            for successor in successors:\n",
    "                isAlreadyExplored = False\n",
    "                for closedNode in closedList:\n",
    "                    if arePuzzlesEqual(successor[\"puzzle\"], closedNode[\"puzzle\"]):\n",
    "                        isAlreadyExplored = True\n",
    "                        nbSimilar+=1\n",
    "                        break\n",
    "                if not isAlreadyExplored:\n",
    "                    isAlreadyInOpenList = False\n",
    "                    for i in range(len(openList)):\n",
    "                        if arePuzzlesEqual(successor[\"puzzle\"], openList[i][\"puzzle\"]):\n",
    "                            isAlreadyInOpenList = True\n",
    "                            nbSimilar2 += 1\n",
    "                            if len(successor[\"solutionPath\"]) < len(openList[i][\"solutionPath\"]):\n",
    "                                openList[i] = successor\n",
    "                    if not isAlreadyInOpenList:\n",
    "                        openList.append(successor)\n",
    "            openList.sort(key=heuristic, reverse=False)\n",
    "\n",
    "        print(\"\\rNb similar (closed): \"+str(nbSimilar)+\"; Nb similar (open): \"+str(nbSimilar2)+\"; Len closedList: \"+str(len(closedList))+\"; Len open list: \"+str(len(openList)), end=\"\");\n",
    "\n",
    "    print(\"NO SOLUTION!\")\n",
    "    return None"
   ],
   "metadata": {
    "collapsed": false
   }
  },
  {
   "cell_type": "markdown",
   "source": [
    "#### heuristics"
   ],
   "metadata": {
    "collapsed": false
   }
  },
  {
   "cell_type": "code",
   "execution_count": 62,
   "outputs": [],
   "source": [
    "def h1(node):\n",
    "    puzzle = node[\"puzzle\"]\n",
    "    isAmbulanceFound = False\n",
    "    uniqueCarTypes = []\n",
    "    for col in range(0, 6):\n",
    "        value = puzzle[2][col]\n",
    "        if isAmbulanceFound == True:\n",
    "            if (value != \"A\") and (value != \".\") and (value not in uniqueCarTypes):\n",
    "                uniqueCarTypes.append(value)\n",
    "        else:\n",
    "            if value == \"A\":\n",
    "                isAmbulanceFound = True\n",
    "    return len(uniqueCarTypes)\n",
    "\n",
    "def h2(node):\n",
    "    puzzle = node[\"puzzle\"]\n",
    "    isAmbulanceFound = False\n",
    "    count = 0\n",
    "    for col in range(0, 6):\n",
    "        value = puzzle[2][col]\n",
    "        if isAmbulanceFound == True:\n",
    "            if (value != \"A\") and (value != \".\"):\n",
    "                count += 1\n",
    "        else:\n",
    "            if value == \"A\":\n",
    "                isAmbulanceFound = True\n",
    "    return count\n",
    "\n",
    "def h3(node):\n",
    "    return h1(node) * 3\n",
    "\n",
    "def h4(node):\n",
    "    #like h1, but count car twice if it is itself blocked\n",
    "    puzzle = node[\"puzzle\"]\n",
    "    isAmbulanceFound = False\n",
    "    uniqueCarTypes = []\n",
    "    count = 0\n",
    "    for col in range(0, 6):\n",
    "        value = puzzle[2][col]\n",
    "        if isAmbulanceFound == True:\n",
    "            #search for cars to the right of ambulance\n",
    "            if (value != \"A\") and (value != \".\") and (value not in uniqueCarTypes):\n",
    "                uniqueCarTypes.append(value)\n",
    "                count += 1\n",
    "                if col < 5 and puzzle[2][col+1] == value:\n",
    "                    #car is horizontal\n",
    "                    if puzzle[2][col-1] != \".\":\n",
    "                        #is blocked left\n",
    "                        newCol = col\n",
    "                        isBlocked = False\n",
    "                        while(newCol <= 5):\n",
    "                            if puzzle[2][newCol] == \".\":\n",
    "                                break\n",
    "                            elif puzzle[2][newCol] != value:\n",
    "                                isBlocked = True\n",
    "                                #is also blocked right\n",
    "                                break\n",
    "                            newCol+=1\n",
    "                        if isBlocked:\n",
    "                            count+=1\n",
    "                elif puzzle[1][col] == value or puzzle[3][col] == value:\n",
    "                    #car is vertical\n",
    "                    newRowUp = 1\n",
    "                    isBlockedUp = False\n",
    "                    while(newRowUp >= 0):\n",
    "                        if puzzle[newRowUp][col] == \".\":\n",
    "                            break\n",
    "                        elif puzzle[newRowUp][col] != value:\n",
    "                            isBlockedUp = True\n",
    "                            #is blocked up\n",
    "                            break\n",
    "                        newRowUp -= 1\n",
    "                    if isBlockedUp:\n",
    "                        newRowDown = 3\n",
    "                        isBlockedDown = False\n",
    "                        while(newRowDown<=5):\n",
    "                            if puzzle[newRowDown][col] == \".\":\n",
    "                                break\n",
    "                            elif puzzle[newRowDown][col] != value:\n",
    "                                isBlockedDown = True\n",
    "                                #is blocked down\n",
    "                                break\n",
    "                            newRowDown += 1\n",
    "                        if isBlockedDown:\n",
    "                            count+=1\n",
    "\n",
    "        else:\n",
    "            if value == \"A\":\n",
    "                isAmbulanceFound = True\n",
    "    return count"
   ],
   "metadata": {
    "collapsed": false
   }
  },
  {
   "cell_type": "markdown",
   "source": [
    "### 1. Uniform Cost Search"
   ],
   "metadata": {
    "collapsed": false
   }
  },
  {
   "cell_type": "code",
   "execution_count": 63,
   "outputs": [],
   "source": [
    "def solveUCS(puzzle, fuelLevels):\n",
    "    heuristic = lambda x:len(x[\"solutionPath\"])\n",
    "    solver(puzzle, fuelLevels, heuristic)"
   ],
   "metadata": {
    "collapsed": false
   }
  },
  {
   "cell_type": "markdown",
   "source": [
    "### 2. Greedy Best First Search"
   ],
   "metadata": {
    "collapsed": false
   }
  },
  {
   "cell_type": "code",
   "execution_count": 64,
   "outputs": [],
   "source": [
    "def solveGBFS(puzzle, fuelLevels):\n",
    "    print(\"Heuristic 1\")\n",
    "    solver(puzzle, fuelLevels, h1)\n",
    "\n",
    "    print(\"Heuristic 2\")\n",
    "    solver(puzzle, fuelLevels, h2)\n",
    "\n",
    "    print(\"Heuristic 3\")\n",
    "    solver(puzzle, fuelLevels, h3)\n",
    "\n",
    "    print(\"Heuristic 4\")\n",
    "    solver(puzzle, fuelLevels, h4)\n",
    "    return 2"
   ],
   "metadata": {
    "collapsed": false
   }
  },
  {
   "cell_type": "markdown",
   "source": [
    "### 3. Algorithm A or A*"
   ],
   "metadata": {
    "collapsed": false
   }
  },
  {
   "cell_type": "markdown",
   "source": [
    "#### Algorithm A heuristics"
   ],
   "metadata": {
    "collapsed": false
   }
  },
  {
   "cell_type": "code",
   "execution_count": 65,
   "outputs": [],
   "source": [
    "def h1A(node):\n",
    "    return len(node[\"solutionPath\"]) + h1(node)\n",
    "\n",
    "def h2A(node):\n",
    "    return len(node[\"solutionPath\"]) + h2(node)\n",
    "\n",
    "def h3A(node):\n",
    "    return len(node[\"solutionPath\"]) + h3(node)\n",
    "\n",
    "def h4A(node):\n",
    "    return len(node[\"solutionPath\"]) + h4(node)"
   ],
   "metadata": {
    "collapsed": false
   }
  },
  {
   "cell_type": "code",
   "execution_count": 66,
   "outputs": [],
   "source": [
    "def solveA(puzzle, fuelLevels):\n",
    "    print(\"Heuristic 1\")\n",
    "    solver(puzzle, fuelLevels, h1A)\n",
    "\n",
    "    print(\"Heuristic 2\")\n",
    "    solver(puzzle, fuelLevels, h2A)\n",
    "\n",
    "    print(\"Heuristic 3\")\n",
    "    solver(puzzle, fuelLevels, h3A)\n",
    "\n",
    "    print(\"Heuristic 4\")\n",
    "    solver(puzzle, fuelLevels, h4A)\n"
   ],
   "metadata": {
    "collapsed": false
   }
  },
  {
   "cell_type": "markdown",
   "source": [
    "## 2.2 Input"
   ],
   "metadata": {
    "collapsed": false
   }
  },
  {
   "cell_type": "code",
   "execution_count": 67,
   "outputs": [
    {
     "name": "stdout",
     "output_type": "stream",
     "text": [
      "# demo 1.1\n",
      "# demo 1.2\n",
      "# demo 1.3\n",
      "# demo 1.4\n",
      "# demo 1.5\n",
      "# demo 1.6\n",
      "B B . G . H \n",
      "\n",
      "E . . G . H \n",
      "\n",
      "E A A G . I \n",
      "\n",
      ". . F C C I \n",
      "\n",
      "D D F . . I \n",
      "\n",
      ". . F . . . \n",
      "\n",
      "Heuristic 1\n",
      "Nb similar (closed): 2126; Nb similar (open): 1625; Len closedList: 646; Len open list: 147E . . B B H \n",
      "\n",
      "E . . . . H \n",
      "\n",
      ". . . . A A \n",
      "\n",
      "C C F G . I \n",
      "\n",
      "D D F G . I \n",
      "\n",
      ". . F G . I \n",
      "\n",
      "[{'carType': 'I', 'direction': 'down', 'displacement': 1}, {'carType': 'B', 'direction': 'right', 'displacement': 1}, {'carType': 'E', 'direction': 'up', 'displacement': 1}, {'carType': 'A', 'direction': 'left', 'displacement': 1}, {'carType': 'F', 'direction': 'up', 'displacement': 2}, {'carType': 'D', 'direction': 'right', 'displacement': 3}, {'carType': 'F', 'direction': 'down', 'displacement': 2}, {'carType': 'A', 'direction': 'right', 'displacement': 1}, {'carType': 'E', 'direction': 'down', 'displacement': 4}, {'carType': 'B', 'direction': 'left', 'displacement': 1}, {'carType': 'A', 'direction': 'left', 'displacement': 1}, {'carType': 'F', 'direction': 'up', 'displacement': 3}, {'carType': 'C', 'direction': 'left', 'displacement': 3}, {'carType': 'F', 'direction': 'down', 'displacement': 3}, {'carType': 'G', 'direction': 'down', 'displacement': 1}, {'carType': 'H', 'direction': 'down', 'displacement': 1}, {'carType': 'B', 'direction': 'right', 'displacement': 4}, {'carType': 'G', 'direction': 'up', 'displacement': 1}, {'carType': 'F', 'direction': 'up', 'displacement': 3}, {'carType': 'C', 'direction': 'right', 'displacement': 3}, {'carType': 'F', 'direction': 'down', 'displacement': 3}, {'carType': 'A', 'direction': 'right', 'displacement': 1}, {'carType': 'E', 'direction': 'up', 'displacement': 4}, {'carType': 'A', 'direction': 'left', 'displacement': 1}, {'carType': 'F', 'direction': 'up', 'displacement': 3}, {'carType': 'C', 'direction': 'left', 'displacement': 3}, {'carType': 'D', 'direction': 'left', 'displacement': 3}, {'carType': 'F', 'direction': 'down', 'displacement': 3}, {'carType': 'G', 'direction': 'down', 'displacement': 3}, {'carType': 'B', 'direction': 'left', 'displacement': 1}, {'carType': 'H', 'direction': 'up', 'displacement': 1}, {'carType': 'A', 'direction': 'right', 'displacement': 4}]\n",
      "Heuristic 2\n",
      "Nb similar (closed): 2126; Nb similar (open): 1625; Len closedList: 646; Len open list: 147E . . B B H \n",
      "\n",
      "E . . . . H \n",
      "\n",
      ". . . . A A \n",
      "\n",
      "C C F G . I \n",
      "\n",
      "D D F G . I \n",
      "\n",
      ". . F G . I \n",
      "\n",
      "[{'carType': 'I', 'direction': 'down', 'displacement': 1}, {'carType': 'B', 'direction': 'right', 'displacement': 1}, {'carType': 'E', 'direction': 'up', 'displacement': 1}, {'carType': 'A', 'direction': 'left', 'displacement': 1}, {'carType': 'F', 'direction': 'up', 'displacement': 2}, {'carType': 'D', 'direction': 'right', 'displacement': 3}, {'carType': 'F', 'direction': 'down', 'displacement': 2}, {'carType': 'A', 'direction': 'right', 'displacement': 1}, {'carType': 'E', 'direction': 'down', 'displacement': 4}, {'carType': 'B', 'direction': 'left', 'displacement': 1}, {'carType': 'A', 'direction': 'left', 'displacement': 1}, {'carType': 'F', 'direction': 'up', 'displacement': 3}, {'carType': 'C', 'direction': 'left', 'displacement': 3}, {'carType': 'F', 'direction': 'down', 'displacement': 3}, {'carType': 'G', 'direction': 'down', 'displacement': 1}, {'carType': 'H', 'direction': 'down', 'displacement': 1}, {'carType': 'B', 'direction': 'right', 'displacement': 4}, {'carType': 'G', 'direction': 'up', 'displacement': 1}, {'carType': 'F', 'direction': 'up', 'displacement': 3}, {'carType': 'C', 'direction': 'right', 'displacement': 3}, {'carType': 'F', 'direction': 'down', 'displacement': 3}, {'carType': 'A', 'direction': 'right', 'displacement': 1}, {'carType': 'E', 'direction': 'up', 'displacement': 4}, {'carType': 'A', 'direction': 'left', 'displacement': 1}, {'carType': 'F', 'direction': 'up', 'displacement': 3}, {'carType': 'C', 'direction': 'left', 'displacement': 3}, {'carType': 'D', 'direction': 'left', 'displacement': 3}, {'carType': 'F', 'direction': 'down', 'displacement': 3}, {'carType': 'G', 'direction': 'down', 'displacement': 3}, {'carType': 'B', 'direction': 'left', 'displacement': 1}, {'carType': 'H', 'direction': 'up', 'displacement': 1}, {'carType': 'A', 'direction': 'right', 'displacement': 4}]\n",
      "Heuristic 3\n",
      "Nb similar (closed): 1704; Nb similar (open): 1225; Len closedList: 531; Len open list: 118E . . B B H \n",
      "\n",
      "E . . . . H \n",
      "\n",
      ". . . . A A \n",
      "\n",
      "C C F G . I \n",
      "\n",
      "D D F G . I \n",
      "\n",
      ". . F G . I \n",
      "\n",
      "[{'carType': 'I', 'direction': 'down', 'displacement': 1}, {'carType': 'B', 'direction': 'right', 'displacement': 1}, {'carType': 'E', 'direction': 'up', 'displacement': 1}, {'carType': 'A', 'direction': 'left', 'displacement': 1}, {'carType': 'F', 'direction': 'up', 'displacement': 2}, {'carType': 'D', 'direction': 'right', 'displacement': 3}, {'carType': 'F', 'direction': 'down', 'displacement': 2}, {'carType': 'A', 'direction': 'right', 'displacement': 1}, {'carType': 'E', 'direction': 'down', 'displacement': 4}, {'carType': 'B', 'direction': 'left', 'displacement': 1}, {'carType': 'A', 'direction': 'left', 'displacement': 1}, {'carType': 'F', 'direction': 'up', 'displacement': 3}, {'carType': 'C', 'direction': 'left', 'displacement': 3}, {'carType': 'F', 'direction': 'down', 'displacement': 3}, {'carType': 'G', 'direction': 'down', 'displacement': 1}, {'carType': 'H', 'direction': 'down', 'displacement': 1}, {'carType': 'B', 'direction': 'right', 'displacement': 4}, {'carType': 'G', 'direction': 'up', 'displacement': 1}, {'carType': 'F', 'direction': 'up', 'displacement': 3}, {'carType': 'C', 'direction': 'right', 'displacement': 3}, {'carType': 'F', 'direction': 'down', 'displacement': 3}, {'carType': 'A', 'direction': 'right', 'displacement': 1}, {'carType': 'E', 'direction': 'up', 'displacement': 4}, {'carType': 'A', 'direction': 'left', 'displacement': 1}, {'carType': 'F', 'direction': 'up', 'displacement': 3}, {'carType': 'C', 'direction': 'left', 'displacement': 2}, {'carType': 'D', 'direction': 'left', 'displacement': 2}, {'carType': 'G', 'direction': 'down', 'displacement': 3}, {'carType': 'B', 'direction': 'left', 'displacement': 1}, {'carType': 'H', 'direction': 'up', 'displacement': 1}, {'carType': 'C', 'direction': 'left', 'displacement': 1}, {'carType': 'D', 'direction': 'left', 'displacement': 1}, {'carType': 'F', 'direction': 'down', 'displacement': 3}, {'carType': 'A', 'direction': 'right', 'displacement': 4}]\n",
      "Heuristic 4\n",
      "Nb similar (closed): 1902; Nb similar (open): 1408; Len closedList: 585; Len open list: 153E . . B B H \n",
      "\n",
      "E . . . . H \n",
      "\n",
      ". . . . A A \n",
      "\n",
      "C C F G . I \n",
      "\n",
      "D D F G . I \n",
      "\n",
      ". . F G . I \n",
      "\n",
      "[{'carType': 'I', 'direction': 'down', 'displacement': 1}, {'carType': 'B', 'direction': 'right', 'displacement': 1}, {'carType': 'E', 'direction': 'up', 'displacement': 1}, {'carType': 'A', 'direction': 'left', 'displacement': 1}, {'carType': 'F', 'direction': 'up', 'displacement': 2}, {'carType': 'D', 'direction': 'right', 'displacement': 3}, {'carType': 'F', 'direction': 'down', 'displacement': 2}, {'carType': 'A', 'direction': 'right', 'displacement': 1}, {'carType': 'E', 'direction': 'down', 'displacement': 4}, {'carType': 'B', 'direction': 'left', 'displacement': 1}, {'carType': 'A', 'direction': 'left', 'displacement': 1}, {'carType': 'F', 'direction': 'up', 'displacement': 3}, {'carType': 'C', 'direction': 'left', 'displacement': 3}, {'carType': 'F', 'direction': 'down', 'displacement': 3}, {'carType': 'G', 'direction': 'down', 'displacement': 1}, {'carType': 'H', 'direction': 'down', 'displacement': 1}, {'carType': 'B', 'direction': 'right', 'displacement': 4}, {'carType': 'G', 'direction': 'up', 'displacement': 1}, {'carType': 'F', 'direction': 'up', 'displacement': 3}, {'carType': 'C', 'direction': 'right', 'displacement': 3}, {'carType': 'F', 'direction': 'down', 'displacement': 3}, {'carType': 'A', 'direction': 'right', 'displacement': 1}, {'carType': 'E', 'direction': 'up', 'displacement': 4}, {'carType': 'A', 'direction': 'left', 'displacement': 1}, {'carType': 'F', 'direction': 'up', 'displacement': 3}, {'carType': 'C', 'direction': 'left', 'displacement': 3}, {'carType': 'D', 'direction': 'left', 'displacement': 3}, {'carType': 'F', 'direction': 'down', 'displacement': 3}, {'carType': 'G', 'direction': 'down', 'displacement': 3}, {'carType': 'B', 'direction': 'left', 'displacement': 1}, {'carType': 'H', 'direction': 'up', 'displacement': 1}, {'carType': 'A', 'direction': 'right', 'displacement': 4}]\n"
     ]
    }
   ],
   "source": [
    "def readInputSamples():\n",
    "    input_file = open('./Sample/sample-input.txt', 'r')\n",
    "    lines = input_file.readlines()\n",
    "    is_next_line_puzzle = False\n",
    "    count = 0\n",
    "    for line in lines:\n",
    "        fuel_levels = {}\n",
    "        puzzle = []\n",
    "        if is_next_line_puzzle:\n",
    "            line = line.strip();\n",
    "            splitted_line = line.split(\" \")\n",
    "            puzzle_string = splitted_line[0]\n",
    "\n",
    "            puzzle_row = []\n",
    "            for i in range(len(puzzle_string)):\n",
    "                if puzzle_string[i] not in fuel_levels:\n",
    "                    fuel_levels[puzzle_string[i]] = 100\n",
    "                puzzle_row.append(puzzle_string[i])\n",
    "                if len(puzzle_row) == 6:\n",
    "                    puzzle.append(puzzle_row)\n",
    "                    puzzle_row = []\n",
    "\n",
    "            fuel_levels_array = splitted_line[1:]\n",
    "            for fuel_level in fuel_levels_array:\n",
    "                fuel_levels[fuel_level[0]] = int(fuel_level[1])\n",
    "            is_next_line_puzzle = False\n",
    "            if count == 5:\n",
    "               printCutePuzzle(puzzle)\n",
    "               solveA(puzzle, fuel_levels)\n",
    "            count+=1\n",
    "        elif line.__contains__(\"demo\"):\n",
    "            print(line.strip())\n",
    "            is_next_line_puzzle = True\n",
    "\n",
    "    input_file.close()\n",
    "\n",
    "readInputSamples()"
   ],
   "metadata": {
    "collapsed": false
   }
  },
  {
   "cell_type": "markdown",
   "source": [
    "## 2.3 Output"
   ],
   "metadata": {
    "collapsed": false
   }
  },
  {
   "cell_type": "code",
   "execution_count": 67,
   "outputs": [],
   "source": [],
   "metadata": {
    "collapsed": false
   }
  },
  {
   "cell_type": "markdown",
   "source": [
    "### 2.3.1 Solution Files"
   ],
   "metadata": {
    "collapsed": false
   }
  },
  {
   "cell_type": "code",
   "execution_count": 67,
   "outputs": [],
   "source": [],
   "metadata": {
    "collapsed": false
   }
  },
  {
   "cell_type": "markdown",
   "source": [
    "### 2.3.2 Search Files"
   ],
   "metadata": {
    "collapsed": false
   }
  },
  {
   "cell_type": "code",
   "execution_count": 67,
   "outputs": [],
   "source": [],
   "metadata": {
    "collapsed": false
   }
  },
  {
   "cell_type": "markdown",
   "source": [
    "# 3. Analysis"
   ],
   "metadata": {
    "collapsed": false
   }
  },
  {
   "cell_type": "code",
   "execution_count": 67,
   "outputs": [],
   "source": [],
   "metadata": {
    "collapsed": false
   }
  },
  {
   "cell_type": "code",
   "execution_count": 67,
   "outputs": [],
   "source": [],
   "metadata": {
    "collapsed": false
   }
  }
 ],
 "metadata": {
  "kernelspec": {
   "display_name": "Python 3",
   "language": "python",
   "name": "python3"
  },
  "language_info": {
   "codemirror_mode": {
    "name": "ipython",
    "version": 2
   },
   "file_extension": ".py",
   "mimetype": "text/x-python",
   "name": "python",
   "nbconvert_exporter": "python",
   "pygments_lexer": "ipython2",
   "version": "2.7.6"
  }
 },
 "nbformat": 4,
 "nbformat_minor": 0
}
